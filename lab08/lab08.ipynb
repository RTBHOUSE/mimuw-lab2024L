{
 "cells": [
  {
   "cell_type": "code",
   "execution_count": null,
   "id": "b07069cc-645e-46f3-b703-e84a5f10a0ab",
   "metadata": {},
   "outputs": [],
   "source": [
    "import pyspark \n",
    "from pyspark import SparkConf, SparkContext"
   ]
  },
  {
   "cell_type": "markdown",
   "id": "f52d5796-939c-42e8-926b-d202ed57394e",
   "metadata": {},
   "source": [
    "# Smoke Test"
   ]
  },
  {
   "cell_type": "code",
   "execution_count": null,
   "id": "6559c2a0-7d40-4290-a88c-3883842aaf8d",
   "metadata": {},
   "outputs": [],
   "source": [
    "conf = SparkConf()\n",
    "conf.setMaster('local[4]')\n",
    "conf.set(\"spark.files.maxPartitionBytes\", \"200K\")\n",
    "conf.set(\"spark.sql.files.maxPartitionBytes\", \"200K\")\n",
    "conf.set(\"spark.files.openCostInBytes\", \"1000\")\n",
    "\n",
    "disable_optimizations = True\n",
    "\n",
    "if disable_optimizations:\n",
    "    conf.set(\"spark.shuffle.sort.bypassMergeThreshold\", \"1\")\n",
    "    conf.set(\"spark.sql.autoBroadcastJoinThreshold\", \"-1\")\n",
    "    conf.set(\"spark.sql.adaptive.autoBroadcastJoinThreshold\", \"-1\")\n",
    "    conf.set(\"spark.sql.adaptive.coalescePartitions.enabled\", \"false\")\n",
    "    conf.set(\"spark.sql.adaptive.enabled\", \"false\")\n",
    "    conf.set(\"spark.sql.bucketing.coalesceBucketsInJoin.enabled\", \"false\")\n",
    "    conf.set(\"spark.sql.cbo.enabled\", \"false\")\n",
    "    conf.set(\"spark.sql.csv.filterPushdown.enabled\", \"false\")\n",
    "    conf.set(\"spark.sql.optimizer.dynamicPartitionPruning.enabled\", \"false\")\n",
    "\n",
    "\n",
    "sc = SparkContext(conf=conf)\n",
    "sc.setLogLevel('INFO')\n",
    "spark = pyspark.sql.SparkSession(sc)\n",
    "sc"
   ]
  },
  {
   "cell_type": "code",
   "execution_count": null,
   "id": "f2451428-791a-400b-a96d-434bb229d38e",
   "metadata": {},
   "outputs": [],
   "source": [
    "!hostname\n",
    "!echo\n",
    "!ls /ext"
   ]
  },
  {
   "cell_type": "code",
   "execution_count": null,
   "id": "2508ab6a-1444-4568-a104-e56ae4eacdd1",
   "metadata": {},
   "outputs": [],
   "source": [
    "!ls /ext/dataset/*/* | shuf | head -n10  | sort"
   ]
  },
  {
   "cell_type": "code",
   "execution_count": null,
   "id": "ed8db8c4-53fd-4f88-965e-72390395e3b8",
   "metadata": {},
   "outputs": [],
   "source": [
    "rdd = sc.parallelize(range(1000))\n",
    "rdd \\\n",
    "    .filter(lambda number: number % 10 == 0) \\\n",
    "    .takeSample(False, 10)"
   ]
  },
  {
   "cell_type": "markdown",
   "id": "d920db4a-cbf9-4de9-888f-e12eb184f24b",
   "metadata": {},
   "source": [
    "# Reading data"
   ]
  },
  {
   "cell_type": "markdown",
   "id": "31ae0f12-67d6-4e5b-9126-c4be54c8d00c",
   "metadata": {},
   "source": [
    "## Customers"
   ]
  },
  {
   "cell_type": "code",
   "execution_count": null,
   "id": "39b893ff-e827-4b23-9405-e43abf282451",
   "metadata": {},
   "outputs": [],
   "source": [
    "customers = spark.read \\\n",
    "    .option(\"header\", True) \\\n",
    "    .csv(\"/ext/dataset/customers/*.csv\")"
   ]
  },
  {
   "cell_type": "code",
   "execution_count": null,
   "id": "350612d4-abce-45ee-a702-e9e5818b7bde",
   "metadata": {},
   "outputs": [],
   "source": [
    "customers.show(5)"
   ]
  },
  {
   "cell_type": "code",
   "execution_count": null,
   "id": "22dc180b-1ede-43da-8b4f-e6ea4eec41c1",
   "metadata": {},
   "outputs": [],
   "source": [
    "customers.rdd.take(5)"
   ]
  },
  {
   "cell_type": "code",
   "execution_count": null,
   "id": "4ed4228d-5b18-4a70-a35e-b64f9b132484",
   "metadata": {},
   "outputs": [],
   "source": [
    "customers.rdd.getNumPartitions()"
   ]
  },
  {
   "cell_type": "code",
   "execution_count": null,
   "id": "0f37227c-6bed-49ef-a4fa-86c3ffe680f7",
   "metadata": {},
   "outputs": [],
   "source": [
    "customers.rdd.toDF().show(5)"
   ]
  },
  {
   "cell_type": "code",
   "execution_count": null,
   "id": "3c15a84e-12af-46ec-94d8-2880dd776519",
   "metadata": {},
   "outputs": [],
   "source": [
    "customers.count()"
   ]
  },
  {
   "cell_type": "code",
   "execution_count": null,
   "id": "92453ea0-5844-4011-91b5-985ffeecc399",
   "metadata": {},
   "outputs": [],
   "source": [
    "customers.rdd.map(lambda row: type(row.customer_zip_code_prefix)).take(5)"
   ]
  },
  {
   "cell_type": "markdown",
   "id": "b4f79a20-b7d1-431b-8c49-ee50fd68992d",
   "metadata": {},
   "source": [
    "## Products, Orders, Order-Items"
   ]
  },
  {
   "cell_type": "code",
   "execution_count": null,
   "id": "3d1cdb8d-5120-43a0-9658-b2655ca3b6c8",
   "metadata": {},
   "outputs": [],
   "source": [
    "products = spark.read \\\n",
    "    .option(\"header\", True) \\\n",
    "    .csv(\"/ext/dataset/products/*.csv\")\n",
    "products.show(5)\n",
    "products.count()"
   ]
  },
  {
   "cell_type": "code",
   "execution_count": null,
   "id": "136fd128-870e-4a1b-a8c1-2f28af4cf455",
   "metadata": {},
   "outputs": [],
   "source": [
    "orders = spark.read \\\n",
    "    .option(\"header\", True) \\\n",
    "    .csv(\"/ext/dataset/orders/*.csv\")\n",
    "orders.show(5)\n",
    "orders.count()"
   ]
  },
  {
   "cell_type": "code",
   "execution_count": null,
   "id": "d49509b0-436f-4aef-a891-b6bbeab6b571",
   "metadata": {},
   "outputs": [],
   "source": [
    "order_items = spark.read \\\n",
    "    .option(\"header\", True) \\\n",
    "    .csv(\"/ext/dataset/order_items/*.csv\")\n",
    "order_items.show(5)\n",
    "order_items.count()"
   ]
  },
  {
   "cell_type": "markdown",
   "id": "ee4a3bd6-8d3b-4885-b00c-8d16cb297786",
   "metadata": {},
   "source": [
    "# Count unique customers"
   ]
  },
  {
   "cell_type": "code",
   "execution_count": null,
   "id": "af1f3bd5-130d-42f8-a94d-66c3323d4d48",
   "metadata": {},
   "outputs": [],
   "source": [
    "customers.count()"
   ]
  },
  {
   "cell_type": "code",
   "execution_count": null,
   "id": "8941220b-97eb-4da4-a66f-799a5523604f",
   "metadata": {},
   "outputs": [],
   "source": [
    "customers.select(\"customer_id\").distinct().count()"
   ]
  },
  {
   "cell_type": "code",
   "execution_count": null,
   "id": "2b7ace71-ec4c-4525-b3fe-8a1af4034946",
   "metadata": {},
   "outputs": [],
   "source": [
    "customers.select(\"customer_unique_id\").distinct().count()"
   ]
  },
  {
   "cell_type": "markdown",
   "id": "56f81cc8-be93-4037-b284-c6f3c25ea28e",
   "metadata": {},
   "source": [
    "# Spark API examples"
   ]
  },
  {
   "cell_type": "markdown",
   "id": "cd5730ff-fb82-4947-a6fc-181e546ff419",
   "metadata": {},
   "source": [
    "## RDD API"
   ]
  },
  {
   "cell_type": "code",
   "execution_count": null,
   "id": "56801fe5-332a-49cc-8a34-b471771ca9d8",
   "metadata": {},
   "outputs": [],
   "source": [
    "customers_with_most_orders = customers.rdd \\\n",
    "    .map(lambda row: (row.customer_unique_id, 1)) \\\n",
    "    .reduceByKey(lambda num_rows1, num_rows2: num_rows1 + num_rows2) \\\n",
    "    .sortBy(lambda customer_uid_and_num_rows: -customer_uid_and_num_rows[1]) \\\n",
    "    .take(10)\n",
    "customers_with_most_orders"
   ]
  },
  {
   "cell_type": "markdown",
   "id": "9f000d5a-58ba-4e10-b1c4-74b9665b26aa",
   "metadata": {},
   "source": [
    "## DataFrame API"
   ]
  },
  {
   "cell_type": "code",
   "execution_count": null,
   "id": "30e321bd-9144-4c0a-ad74-ba6e5e5c07b6",
   "metadata": {},
   "outputs": [],
   "source": [
    "home_products = products \\\n",
    "    .filter(products.product_category_name == 'cama_mesa_banho') \\\n",
    "    .filter(products.product_weight_g > 10000) \\\n",
    "    .select([\"product_id\", \"product_category_name\", \"product_weight_g\", (products.product_weight_g / 1000).alias('weight_kg') ])\n",
    "home_products.show()"
   ]
  },
  {
   "cell_type": "markdown",
   "id": "24480568-a4c1-402f-8b17-0b0b4c04e596",
   "metadata": {},
   "source": [
    "## SQL API"
   ]
  },
  {
   "cell_type": "code",
   "execution_count": null,
   "id": "b69d14fd-faa2-4993-a5a7-c7826d0a9f9e",
   "metadata": {},
   "outputs": [],
   "source": [
    "home_products.createOrReplaceTempView(\"table_home_products\")\n",
    "order_items.createOrReplaceTempView(\"table_order_items\")\n",
    "\n",
    "ordered_perfumes_df = spark.sql(\"\"\"\n",
    "    SELECT \n",
    "        p.product_id product_id,\n",
    "        o.order_id order_id,\n",
    "        CAST (o.price AS float) price,\n",
    "        p.weight_kg weight_kg\n",
    "    FROM\n",
    "        table_home_products p\n",
    "        LEFT JOIN table_order_items o ON (p.product_id = o.product_id)    \n",
    "    WHERE\n",
    "        price < 200\n",
    "    ORDER BY\n",
    "        product_id\n",
    "\"\"\")\n",
    "\n",
    "ordered_perfumes_df.collect()[:15]"
   ]
  },
  {
   "cell_type": "markdown",
   "id": "014e9f1e-b151-40ab-a471-06110ed41127",
   "metadata": {},
   "source": [
    "# Exercise 1\n",
    "\n",
    "Find customers who ordered (`order_status == \"delivered\"`) at least 3 products from category *perfumaria* and return top 5 customeres who spend most money in that category.\n",
    "\n",
    "**Please use (mix) all three (RDD, DataFrame, SQL) interfaces to compute the result.**"
   ]
  },
  {
   "cell_type": "markdown",
   "id": "1f3498d6-f75d-48ee-9068-6e3d1fc57cd5",
   "metadata": {},
   "source": [
    "# Exercise 2\n",
    "\n",
    "- duplicate notebook\n",
    "- set `disable_optimizations` to `False`\n",
    "- use \"Restart Kernel and runn all cells\" in both notebooks\n",
    "- compare execution plans and computed DAGs"
   ]
  },
  {
   "cell_type": "markdown",
   "id": "a299cc2e-3178-468d-ac5a-64eba4c95ed6",
   "metadata": {},
   "source": [
    "# Hints and references\n",
    "\n",
    "- https://spark.apache.org/docs/latest/sql-getting-started.html - Spark SQL Guide\n",
    "- https://spark.apache.org/docs/latest/api/python/reference/pyspark.sql/index.html - PySpark SQL API reference\n",
    "- https://spark.apache.org/docs/latest/rdd-programming-guide.html#transformations - Spark actions and transformations\n",
    "- https://spark.apache.org/docs/latest/configuration.html#available-properties - Spark Configuration"
   ]
  }
 ],
 "metadata": {
  "kernelspec": {
   "display_name": "Python 3 (ipykernel)",
   "language": "python",
   "name": "python3"
  },
  "language_info": {
   "codemirror_mode": {
    "name": "ipython",
    "version": 3
   },
   "file_extension": ".py",
   "mimetype": "text/x-python",
   "name": "python",
   "nbconvert_exporter": "python",
   "pygments_lexer": "ipython3",
   "version": "3.9.12"
  }
 },
 "nbformat": 4,
 "nbformat_minor": 5
}
