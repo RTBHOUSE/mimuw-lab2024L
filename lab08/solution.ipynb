{
 "cells": [
  {
   "cell_type": "code",
   "execution_count": null,
   "id": "b07069cc-645e-46f3-b703-e84a5f10a0ab",
   "metadata": {},
   "outputs": [],
   "source": [
    "import pyspark \n",
    "from pyspark import SparkConf, SparkContext"
   ]
  },
  {
   "cell_type": "markdown",
   "id": "f52d5796-939c-42e8-926b-d202ed57394e",
   "metadata": {},
   "source": [
    "# Smoke Test"
   ]
  },
  {
   "cell_type": "code",
   "execution_count": null,
   "id": "6559c2a0-7d40-4290-a88c-3883842aaf8d",
   "metadata": {},
   "outputs": [],
   "source": [
    "conf = SparkConf()\n",
    "conf.setMaster('local[4]')\n",
    "conf.set(\"spark.files.maxPartitionBytes\", \"200K\")\n",
    "conf.set(\"spark.sql.files.maxPartitionBytes\", \"200K\")\n",
    "conf.set(\"spark.files.openCostInBytes\", \"1000\")\n",
    "\n",
    "disable_optimizations = True\n",
    "\n",
    "if disable_optimizations:\n",
    "    conf.set(\"spark.shuffle.sort.bypassMergeThreshold\", \"1\")\n",
    "    conf.set(\"spark.sql.autoBroadcastJoinThreshold\", \"-1\")\n",
    "    conf.set(\"spark.sql.adaptive.autoBroadcastJoinThreshold\", \"-1\")\n",
    "    conf.set(\"spark.sql.adaptive.coalescePartitions.enabled\", \"false\")\n",
    "    conf.set(\"spark.sql.adaptive.enabled\", \"false\")\n",
    "    conf.set(\"spark.sql.bucketing.coalesceBucketsInJoin.enabled\", \"false\")\n",
    "    conf.set(\"spark.sql.cbo.enabled\", \"false\")\n",
    "    conf.set(\"spark.sql.csv.filterPushdown.enabled\", \"false\")\n",
    "    conf.set(\"spark.sql.optimizer.dynamicPartitionPruning.enabled\", \"false\")\n",
    "\n",
    "\n",
    "sc = SparkContext(conf=conf)\n",
    "sc.setLogLevel('INFO')\n",
    "spark = pyspark.sql.SparkSession(sc)\n",
    "sc"
   ]
  },
  {
   "cell_type": "code",
   "execution_count": null,
   "id": "f2451428-791a-400b-a96d-434bb229d38e",
   "metadata": {},
   "outputs": [],
   "source": [
    "!hostname\n",
    "!echo\n",
    "!ls /ext"
   ]
  },
  {
   "cell_type": "code",
   "execution_count": null,
   "id": "2508ab6a-1444-4568-a104-e56ae4eacdd1",
   "metadata": {},
   "outputs": [],
   "source": [
    "!ls /ext/dataset/*/* | shuf | head -n10  | sort"
   ]
  },
  {
   "cell_type": "code",
   "execution_count": null,
   "id": "ed8db8c4-53fd-4f88-965e-72390395e3b8",
   "metadata": {},
   "outputs": [],
   "source": [
    "rdd = sc.parallelize(range(1000))\n",
    "rdd \\\n",
    "    .filter(lambda number: number % 10 == 0) \\\n",
    "    .takeSample(False, 10)"
   ]
  },
  {
   "cell_type": "markdown",
   "id": "d920db4a-cbf9-4de9-888f-e12eb184f24b",
   "metadata": {},
   "source": [
    "# Reading data"
   ]
  },
  {
   "cell_type": "markdown",
   "id": "31ae0f12-67d6-4e5b-9126-c4be54c8d00c",
   "metadata": {},
   "source": [
    "## Customers"
   ]
  },
  {
   "cell_type": "code",
   "execution_count": null,
   "id": "39b893ff-e827-4b23-9405-e43abf282451",
   "metadata": {},
   "outputs": [],
   "source": [
    "customers = spark.read \\\n",
    "    .option(\"header\", True) \\\n",
    "    .csv(\"/ext/dataset/customers/*.csv\")"
   ]
  },
  {
   "cell_type": "code",
   "execution_count": null,
   "id": "350612d4-abce-45ee-a702-e9e5818b7bde",
   "metadata": {},
   "outputs": [],
   "source": [
    "customers.show(5)"
   ]
  },
  {
   "cell_type": "code",
   "execution_count": null,
   "id": "22dc180b-1ede-43da-8b4f-e6ea4eec41c1",
   "metadata": {},
   "outputs": [],
   "source": [
    "customers.rdd.take(5)"
   ]
  },
  {
   "cell_type": "code",
   "execution_count": null,
   "id": "4ed4228d-5b18-4a70-a35e-b64f9b132484",
   "metadata": {},
   "outputs": [],
   "source": [
    "customers.rdd.getNumPartitions()"
   ]
  },
  {
   "cell_type": "code",
   "execution_count": null,
   "id": "0f37227c-6bed-49ef-a4fa-86c3ffe680f7",
   "metadata": {},
   "outputs": [],
   "source": [
    "customers.rdd.toDF().show(5)"
   ]
  },
  {
   "cell_type": "code",
   "execution_count": null,
   "id": "3c15a84e-12af-46ec-94d8-2880dd776519",
   "metadata": {},
   "outputs": [],
   "source": [
    "customers.count()"
   ]
  },
  {
   "cell_type": "code",
   "execution_count": null,
   "id": "92453ea0-5844-4011-91b5-985ffeecc399",
   "metadata": {},
   "outputs": [],
   "source": [
    "customers.rdd.map(lambda row: type(row.customer_zip_code_prefix)).take(5)"
   ]
  },
  {
   "cell_type": "markdown",
   "id": "b4f79a20-b7d1-431b-8c49-ee50fd68992d",
   "metadata": {},
   "source": [
    "## Products, Orders, Order-Items"
   ]
  },
  {
   "cell_type": "code",
   "execution_count": null,
   "id": "3d1cdb8d-5120-43a0-9658-b2655ca3b6c8",
   "metadata": {},
   "outputs": [],
   "source": [
    "products = spark.read \\\n",
    "    .option(\"header\", True) \\\n",
    "    .csv(\"/ext/dataset/products/*.csv\")\n",
    "products.show(5)\n",
    "products.count()"
   ]
  },
  {
   "cell_type": "code",
   "execution_count": null,
   "id": "136fd128-870e-4a1b-a8c1-2f28af4cf455",
   "metadata": {},
   "outputs": [],
   "source": [
    "orders = spark.read \\\n",
    "    .option(\"header\", True) \\\n",
    "    .csv(\"/ext/dataset/orders/*.csv\")\n",
    "orders.show(5)\n",
    "orders.count()"
   ]
  },
  {
   "cell_type": "code",
   "execution_count": null,
   "id": "d49509b0-436f-4aef-a891-b6bbeab6b571",
   "metadata": {},
   "outputs": [],
   "source": [
    "order_items = spark.read \\\n",
    "    .option(\"header\", True) \\\n",
    "    .csv(\"/ext/dataset/order_items/*.csv\")\n",
    "order_items.show(5)\n",
    "order_items.count()"
   ]
  },
  {
   "cell_type": "markdown",
   "id": "ee4a3bd6-8d3b-4885-b00c-8d16cb297786",
   "metadata": {},
   "source": [
    "# Count unique customers"
   ]
  },
  {
   "cell_type": "code",
   "execution_count": null,
   "id": "af1f3bd5-130d-42f8-a94d-66c3323d4d48",
   "metadata": {},
   "outputs": [],
   "source": [
    "customers.count()"
   ]
  },
  {
   "cell_type": "code",
   "execution_count": null,
   "id": "8941220b-97eb-4da4-a66f-799a5523604f",
   "metadata": {},
   "outputs": [],
   "source": [
    "customers.select(\"customer_id\").distinct().count()"
   ]
  },
  {
   "cell_type": "code",
   "execution_count": null,
   "id": "2b7ace71-ec4c-4525-b3fe-8a1af4034946",
   "metadata": {},
   "outputs": [],
   "source": [
    "customers.select(\"customer_unique_id\").distinct().count()"
   ]
  },
  {
   "cell_type": "markdown",
   "id": "56f81cc8-be93-4037-b284-c6f3c25ea28e",
   "metadata": {},
   "source": [
    "# Spark API examples"
   ]
  },
  {
   "cell_type": "markdown",
   "id": "cd5730ff-fb82-4947-a6fc-181e546ff419",
   "metadata": {},
   "source": [
    "## RDD API"
   ]
  },
  {
   "cell_type": "code",
   "execution_count": null,
   "id": "56801fe5-332a-49cc-8a34-b471771ca9d8",
   "metadata": {},
   "outputs": [],
   "source": [
    "customers_with_most_orders = customers.rdd \\\n",
    "    .map(lambda row: (row.customer_unique_id, 1)) \\\n",
    "    .reduceByKey(lambda num_rows1, num_rows2: num_rows1 + num_rows2) \\\n",
    "    .sortBy(lambda customer_uid_and_num_rows: -customer_uid_and_num_rows[1]) \\\n",
    "    .take(10)\n",
    "customers_with_most_orders"
   ]
  },
  {
   "cell_type": "markdown",
   "id": "9f000d5a-58ba-4e10-b1c4-74b9665b26aa",
   "metadata": {},
   "source": [
    "## DataFrame API"
   ]
  },
  {
   "cell_type": "code",
   "execution_count": null,
   "id": "30e321bd-9144-4c0a-ad74-ba6e5e5c07b6",
   "metadata": {},
   "outputs": [],
   "source": [
    "home_products = products \\\n",
    "    .filter(products.product_category_name == 'cama_mesa_banho') \\\n",
    "    .filter(products.product_weight_g > 10000) \\\n",
    "    .select([\"product_id\", \"product_category_name\", \"product_weight_g\", (products.product_weight_g / 1000).alias('weight_kg') ])\n",
    "home_products.show()"
   ]
  },
  {
   "cell_type": "markdown",
   "id": "24480568-a4c1-402f-8b17-0b0b4c04e596",
   "metadata": {},
   "source": [
    "## SQL API"
   ]
  },
  {
   "cell_type": "code",
   "execution_count": null,
   "id": "b69d14fd-faa2-4993-a5a7-c7826d0a9f9e",
   "metadata": {},
   "outputs": [],
   "source": [
    "home_products.createOrReplaceTempView(\"table_home_products\")\n",
    "order_items.createOrReplaceTempView(\"table_order_items\")\n",
    "\n",
    "ordered_perfumes_df = spark.sql(\"\"\"\n",
    "    SELECT \n",
    "        p.product_id product_id,\n",
    "        o.order_id order_id,\n",
    "        CAST (o.price AS float) price,\n",
    "        p.weight_kg weight_kg\n",
    "    FROM\n",
    "        table_home_products p\n",
    "        LEFT JOIN table_order_items o ON (p.product_id = o.product_id)    \n",
    "    WHERE\n",
    "        price < 200\n",
    "    ORDER BY\n",
    "        product_id\n",
    "\"\"\")\n",
    "\n",
    "ordered_perfumes_df.collect()[:15]"
   ]
  },
  {
   "cell_type": "markdown",
   "id": "014e9f1e-b151-40ab-a471-06110ed41127",
   "metadata": {},
   "source": [
    "# Exercise 1\n",
    "\n",
    "Find customers who ordered (`order_status == \"delivered\"`) at least 3 products from category *perfumaria* and return top 5 customeres who spend most money in that category.\n",
    "\n",
    "**Please use (mix) all three (RDD, DataFrame, SQL) interfaces to compute the result.**"
   ]
  },
  {
   "cell_type": "markdown",
   "id": "1f3498d6-f75d-48ee-9068-6e3d1fc57cd5",
   "metadata": {},
   "source": [
    "# Exercise 2\n",
    "\n",
    "- duplicate notebook\n",
    "- set `disable_optimizations` to `False`\n",
    "- use \"Restart Kernel and runn all cells\" in both notebooks\n",
    "- compare execution plans and computed DAGs"
   ]
  },
  {
   "cell_type": "markdown",
   "id": "a299cc2e-3178-468d-ac5a-64eba4c95ed6",
   "metadata": {},
   "source": [
    "# Hints and references\n",
    "\n",
    "- https://spark.apache.org/docs/latest/sql-getting-started.html - Spark SQL Guide\n",
    "- https://spark.apache.org/docs/latest/api/python/reference/pyspark.sql.html - PySpark SQL API reference\n",
    "- https://spark.apache.org/docs/latest/rdd-programming-guide.html#transformations - Spark actions and transformations\n",
    "- https://spark.apache.org/docs/latest/configuration.html#available-properties - Spark Configuration"
   ]
  },
  {
   "cell_type": "markdown",
   "id": "13486e38-d35c-4209-aeaf-97a6779bc40b",
   "metadata": {},
   "source": [
    "# Solution"
   ]
  },
  {
   "cell_type": "code",
   "execution_count": null,
   "id": "386e6438-8902-4ae6-80b5-d31290bc6e27",
   "metadata": {},
   "outputs": [],
   "source": [
    "from typing import NamedTuple\n",
    "from collections import namedtuple\n",
    "\n",
    "# class OrderAndCustomer(NamedTuple):\n",
    "#     order_id: str\n",
    "#     customer_id: str\n",
    "\n",
    "OrderAndCustomer = namedtuple(\"OrderUser\", \"order_id customer_id\")\n",
    "\n",
    "delivered_orders = orders.rdd \\\n",
    "    .filter(lambda row: row.order_status == \"delivered\") \\\n",
    "    .map(lambda row: OrderAndCustomer(row.order_id, row.customer_id)) \\\n",
    "    .keyBy(lambda o: o.customer_id)"
   ]
  },
  {
   "cell_type": "code",
   "execution_count": null,
   "id": "e583ae60-66fd-46bb-836a-ba3493de4eed",
   "metadata": {},
   "outputs": [],
   "source": [
    "Customer = namedtuple(\"Customer\", \"customer_id customer_unique_id\")\n",
    "\n",
    "customers_with_orders = customers.rdd \\\n",
    "    .map(lambda row: Customer(row.customer_id, row.customer_unique_id)) \\\n",
    "    .keyBy(lambda c: c.customer_id) \\\n",
    "    .join(delivered_orders)"
   ]
  },
  {
   "cell_type": "code",
   "execution_count": null,
   "id": "15b55315-7446-44aa-a4dc-e7a404e1c33e",
   "metadata": {},
   "outputs": [],
   "source": [
    "#customers_with_orders.take(10)"
   ]
  },
  {
   "cell_type": "code",
   "execution_count": null,
   "id": "e640e7ec-dc08-4be7-9d9d-afd9448af8c4",
   "metadata": {},
   "outputs": [],
   "source": [
    "perfumes = products.filter(products.product_category_name == 'perfumaria')"
   ]
  },
  {
   "cell_type": "code",
   "execution_count": null,
   "id": "1d77443a-a145-4b19-9d24-32d0af09215d",
   "metadata": {},
   "outputs": [],
   "source": [
    "#perfumes.show()"
   ]
  },
  {
   "cell_type": "code",
   "execution_count": null,
   "id": "86d170eb-3042-4cf7-88eb-a59c3693a8f1",
   "metadata": {},
   "outputs": [],
   "source": [
    "perfumes.createOrReplaceTempView(\"table_perfumes\")\n",
    "order_items.createOrReplaceTempView(\"table_orders\")\n",
    "\n",
    "ordered_perfumes_df = spark.sql(\"\"\"\n",
    "    select \n",
    "        p.product_id product_id,\n",
    "        o.order_id order_id,\n",
    "        cast (o.price as float) price\n",
    "    from \n",
    "        table_perfumes p\n",
    "        left join table_orders o on (p.product_id = o.product_id)    \n",
    "\"\"\")"
   ]
  },
  {
   "cell_type": "code",
   "execution_count": null,
   "id": "8470225c-2c32-4321-a810-70bf8e3f08ef",
   "metadata": {},
   "outputs": [],
   "source": [
    "#ordered_perfumes_df.show(5)"
   ]
  },
  {
   "cell_type": "code",
   "execution_count": null,
   "id": "01d1239b-b215-4135-b8c8-f33db7f2eff6",
   "metadata": {},
   "outputs": [],
   "source": [
    "ordered_perfumes = ordered_perfumes_df.rdd \\\n",
    "    .keyBy(lambda row: row.order_id)"
   ]
  },
  {
   "cell_type": "code",
   "execution_count": null,
   "id": "ba50900f-4845-4606-b4d8-a4df7f69cd6d",
   "metadata": {},
   "outputs": [],
   "source": [
    "customers_orders_perfumes = customers_with_orders \\\n",
    "    .values() \\\n",
    "    .keyBy(lambda customerAndOrder: customerAndOrder[1].order_id) \\\n",
    "    .join(ordered_perfumes)"
   ]
  },
  {
   "cell_type": "code",
   "execution_count": null,
   "id": "a7975201-832e-416f-a49c-293c55461c76",
   "metadata": {},
   "outputs": [],
   "source": [
    "# tmp = customers_orders_perfumes.take(2)\n",
    "# v = tmp[0][1]\n",
    "# v"
   ]
  },
  {
   "cell_type": "code",
   "execution_count": null,
   "id": "db6bf7af-ebe3-4535-a36e-2d67c768cd4d",
   "metadata": {},
   "outputs": [],
   "source": [
    "Stats = namedtuple(\"Stats\", \"price num_items\")\n",
    "CustomerWithStats = namedtuple(\"CustomerWithStats\", \"customer_id stats\")\n",
    "\n",
    "# (order_id, ((Customer, OrderUser), ProductRow)) => (Customer, Orderuser, ProductRow)\n",
    "flat_customers_orders_perfumes = customers_orders_perfumes \\\n",
    "    .values() \\\n",
    "    .map(lambda nested_customer_order_product: (nested_customer_order_product[0][0], nested_customer_order_product[0][1], nested_customer_order_product[1])) \\\n",
    "\n",
    "result_rdd = flat_customers_orders_perfumes \\\n",
    "    .map(lambda customer_order_product: CustomerWithStats(customer_order_product[0].customer_unique_id, Stats(customer_order_product[2].price, 1))) \\\n",
    "    .reduceByKey(lambda stats1, stats2: Stats(stats1.price + stats2.price, stats1.num_items + stats2.num_items)) \\\n",
    "    .map(lambda record: CustomerWithStats(*record)) \\\n",
    "    .filter(lambda customer_with_stats: customer_with_stats.stats.num_items > 2) \\\n",
    "    .sortBy(lambda customer_with_stats: -customer_with_stats.stats.price)    \n",
    "\n",
    "result = result_rdd.collect()"
   ]
  },
  {
   "cell_type": "code",
   "execution_count": null,
   "id": "99c9bff4-8c06-4cee-9219-0cea45bc0c96",
   "metadata": {},
   "outputs": [],
   "source": [
    "result[:5]"
   ]
  }
 ],
 "metadata": {
  "kernelspec": {
   "display_name": "Python 3 (ipykernel)",
   "language": "python",
   "name": "python3"
  },
  "language_info": {
   "codemirror_mode": {
    "name": "ipython",
    "version": 3
   },
   "file_extension": ".py",
   "mimetype": "text/x-python",
   "name": "python",
   "nbconvert_exporter": "python",
   "pygments_lexer": "ipython3",
   "version": "3.9.12"
  }
 },
 "nbformat": 4,
 "nbformat_minor": 5
}
